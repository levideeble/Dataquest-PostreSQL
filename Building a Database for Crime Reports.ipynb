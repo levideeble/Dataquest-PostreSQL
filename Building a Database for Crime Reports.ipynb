{
 "cells": [
  {
   "cell_type": "markdown",
   "id": "e7a10522",
   "metadata": {},
   "source": [
    "# Building a Database for Crime Reports\n",
    "\n",
    "## Introduction\n",
    "\n",
    "In this project, we will build a PostgreSQL database for storing data related to crimes that occured in Boston. This dataset is available in the file `boston.csv`.\n",
    "\n",
    "The file contains the following columns:\n",
    "\n",
    "* **incident_number** - The unique ID of the crime\n",
    "* **offense_code** - The numeric ID code for the committed crime classification\n",
    "* **description** - A description of the crime\n",
    "* **date** - The date that the crime occurred on\n",
    "* **day_of_the_week** - The corresponding day of the week\n",
    "* **lat** and **long** - The location of the crime\n",
    "\n",
    "We will create a database named `crime_db` with a table - `boston_crimes` - with appropriate datatypes for storing the data from the `boston.csv` file. We will create this table within a schema named `crimes` to help organise our database.\n",
    "We will also create two groups, `readonly` and `readwrite`, with the appropriate privileges and create one user for each group.\n",
    "\n",
    "Here is a high-level overview of what we wish to build:\n",
    "\n",
    "![overview](images/overview.png)\n",
    "\n",
    "## Creating the Crime Database\n",
    "\n",
    "Let's start by connecting to the `postgres` superuser and creating the `crime_db` database:\n"
   ]
  },
  {
   "cell_type": "code",
   "execution_count": 1,
   "id": "8974393f",
   "metadata": {},
   "outputs": [],
   "source": [
    "import psycopg2\n",
    "\n",
    "conn = psycopg2.connect(user='postgres', password='secret')\n",
    "conn.autocommit = True\n",
    "cur = conn.cursor()\n",
    "\n",
    "# Drop database if it already exists to allow us to re-run the kernel.\n",
    "cur.execute('DROP DATABASE crime_db;')\n",
    "\n",
    "cur.execute('CREATE DATABASE crime_db;') \n",
    "\n",
    "conn.autocommit = False\n",
    "\n",
    "conn.commit()\n",
    "conn.close()\n"
   ]
  },
  {
   "cell_type": "markdown",
   "id": "5d68e41c",
   "metadata": {},
   "source": [
    "Now we can connect to our new `crime_db` database and keep the connection open throughout the project. Let's also create our schema, `crimes`, to allow us to organise our tables better."
   ]
  },
  {
   "cell_type": "code",
   "execution_count": 2,
   "id": "4a357d14",
   "metadata": {},
   "outputs": [],
   "source": [
    "conn = psycopg2.connect(dbname='crime_db', user='postgres', password='secret')\n",
    "cur = conn.cursor()\n",
    "\n",
    "cur.execute('CREATE SCHEMA crimes;')\n",
    "\n",
    "conn.commit()"
   ]
  },
  {
   "cell_type": "markdown",
   "id": "2c9cd47f",
   "metadata": {},
   "source": [
    "## Obtaining the Column Names and Sample\n",
    "\n",
    "Before we create our tables, it will help to get an idea of what the data in the crime dataset looks like. We will then be able to easily select the right datatypes to use.\n",
    "\n",
    "Let's start by reading the column names from the `boston.csv` file as well as the first row. This way, we will have them at hand throughout the project for reference."
   ]
  },
  {
   "cell_type": "code",
   "execution_count": 3,
   "id": "ee774da4",
   "metadata": {},
   "outputs": [
    {
     "name": "stdout",
     "output_type": "stream",
     "text": [
      "['incident_number', 'offense_code', 'description', 'date', 'day_of_the_week', 'lat', 'long']\n",
      "['1', '619', 'LARCENY ALL OTHERS', '2018-09-02', 'Sunday', '42.35779134', '-71.13937053']\n"
     ]
    }
   ],
   "source": [
    "import csv\n",
    "\n",
    "with open('boston.csv', mode='r') as file:\n",
    "    rows = list(csv.reader(file))\n",
    "    col_headers = rows[0]\n",
    "    first_row = rows[1]\n",
    "\n",
    "print(col_headers)\n",
    "print(first_row)"
   ]
  },
  {
   "cell_type": "markdown",
   "id": "a72d3b41",
   "metadata": {},
   "source": [
    "We now have access to the column headers and the first row of data. This will help us when we create the table. We won't have to remember the names of the columns, and using the first row of data, we can easily recall what kind of data is in each column.\n",
    "\n",
    "## Creating an Auxiliary Function\n",
    "\n",
    "Before we create a table to store the crime data, we need to identify the proper datatypes for the columns. To help us with that, let's create a function - `get_col_set()` - that, given the name of a CSV file and a column index, computes a Python set with all distinct values contained in that column.\n",
    "\n",
    "This function will be useful for two reasons:\n",
    "\n",
    "1. Checking whether an enumerated datatype might be a good choice for representing a column\n",
    "2. Computing the maximum length of any text-like column to select appropriate sizes for `VARCHAR` columns. The same logic applies for the maximum values of numerical columns.\n"
   ]
  },
  {
   "cell_type": "code",
   "execution_count": 4,
   "id": "de89222a",
   "metadata": {},
   "outputs": [
    {
     "name": "stdout",
     "output_type": "stream",
     "text": [
      "{0: 298329, 1: 219, 2: 239, 3: 1177, 4: 7, 5: 18177, 6: 18177}\n"
     ]
    }
   ],
   "source": [
    "# Create a get_col_set() function that returns a set of distinct values for a column.\n",
    "def get_col_set(csv_filename: str, col_index: int):\n",
    "    with open(csv_filename, mode='r') as file:\n",
    "        next(file) # Skip the header row.\n",
    "        reader = csv.reader(file)\n",
    "        rows = [row for row in reader]\n",
    "    \n",
    "    col_set = set()\n",
    "    for row in rows:\n",
    "        col_set.add(row[col_index])\n",
    "        \n",
    "    return col_set\n",
    "    \n",
    "# Use the get_col_set() function to calculate the number of distinct values in each column of the crime dataset.\n",
    "col_num_elements = {}\n",
    "for col_index in range(len(col_headers)):\n",
    "    col_elements = get_col_set('boston.csv', col_index)\n",
    "    num_elements = len(col_elements)\n",
    "    col_num_elements[col_index] = num_elements\n",
    "    \n",
    "print(col_num_elements)"
   ]
  },
  {
   "cell_type": "markdown",
   "id": "a8226598",
   "metadata": {},
   "source": [
    "We can see here that the `day_of_the_week` column only has 7 distinct values, which matches what we would expect. Therefore, we will make this column have a enumerated datatype.\n",
    "\n",
    "## Finding the Maximum Length\n",
    "\n",
    "Another important aspect when choosing datatypes is to know the longest string in any column containing textual data.\n",
    "\n",
    "As we already know that the longest string in the `day_of_the_week` column is `Wednesday`, let's just calculate the longest string in the `description` column."
   ]
  },
  {
   "cell_type": "code",
   "execution_count": 5,
   "id": "0c528481",
   "metadata": {},
   "outputs": [
    {
     "name": "stdout",
     "output_type": "stream",
     "text": [
      "['incident_number', 'offense_code', 'description', 'date', 'day_of_the_week', 'lat', 'long']\n"
     ]
    }
   ],
   "source": [
    "#find the index for the description column.\n",
    "print(col_headers)"
   ]
  },
  {
   "cell_type": "code",
   "execution_count": 6,
   "id": "3852017c",
   "metadata": {},
   "outputs": [
    {
     "name": "stdout",
     "output_type": "stream",
     "text": [
      "58\n"
     ]
    }
   ],
   "source": [
    "# Compute the maximum length of any value in the description column.\n",
    "description_elements = get_col_set('boston.csv', 2)\n",
    "element_lengths = set()\n",
    "for element in description_elements:\n",
    "    element_lengths.add(len(element))\n",
    "\n",
    "max_length = max(element_lengths)\n",
    "print(max_length)"
   ]
  },
  {
   "cell_type": "markdown",
   "id": "b4f28123",
   "metadata": {},
   "source": [
    "## Creating the Table\n",
    "\n",
    "Next, we'll create a table named `boston_crimes` inside the `crimes` schema of the `crime_db` database. But first, we'll use the information gathered from the two previous sections to select the appropriate datatypes."
   ]
  },
  {
   "cell_type": "code",
   "execution_count": 7,
   "id": "9b49b1df",
   "metadata": {},
   "outputs": [
    {
     "name": "stdout",
     "output_type": "stream",
     "text": [
      "['incident_number', 'offense_code', 'description', 'date', 'day_of_the_week', 'lat', 'long']\n"
     ]
    }
   ],
   "source": [
    "print(col_headers)"
   ]
  },
  {
   "cell_type": "markdown",
   "id": "7439db1a",
   "metadata": {},
   "source": [
    "We'll use the headers in the `boston.csv` file as our column names for simplicity, as they will be familiar to the users."
   ]
  },
  {
   "cell_type": "code",
   "execution_count": 8,
   "id": "132709d2",
   "metadata": {},
   "outputs": [
    {
     "name": "stdout",
     "output_type": "stream",
     "text": [
      "['1', '619', 'LARCENY ALL OTHERS', '2018-09-02', 'Sunday', '42.35779134', '-71.13937053']\n"
     ]
    }
   ],
   "source": [
    "print(first_row)"
   ]
  },
  {
   "cell_type": "markdown",
   "id": "82c1f319",
   "metadata": {},
   "source": [
    "If we look at the data within the first row of the dataset, we can see the following data types:\n",
    "\n",
    "Integer Numeric\n",
    "Integer Numeric\n",
    "String\n",
    "Date\n",
    "String\n",
    "Decimal Numeric\n",
    "Decimal Numeric\n",
    "\n",
    "We'll set column data types that work well with the data. Also, recall that the `day_of_the_week` column only had 7 distinct values, which means it is suited to have an enumerated datatype.We'll create that datatype before creating the table.\n"
   ]
  },
  {
   "cell_type": "code",
   "execution_count": 9,
   "id": "deafaa57",
   "metadata": {},
   "outputs": [
    {
     "name": "stdout",
     "output_type": "stream",
     "text": [
      "(Column(name='incident_number', type_code=23), Column(name='offense_code', type_code=23), Column(name='description', type_code=1043), Column(name='date', type_code=1082), Column(name='day_of_the_week', type_code=16710), Column(name='lat', type_code=1700), Column(name='long', type_code=1700))\n"
     ]
    }
   ],
   "source": [
    "# Create enumerated datatype for day_of_the_week column.\n",
    "cur.execute('''\n",
    "            CREATE TYPE day_enum AS ENUM (\n",
    "                'Monday',\n",
    "                'Tuesday',\n",
    "                'Wednesday',\n",
    "                'Thursday',\n",
    "                'Friday',\n",
    "                'Saturday',\n",
    "                'Sunday'\n",
    "            );\n",
    "            '''\n",
    "            )\n",
    "\n",
    "# Create the boston_crimes table within the crimes schema.\n",
    "cur.execute('''\n",
    "            CREATE TABLE crimes.boston_crimes (\n",
    "                incident_number INTEGER PRIMARY KEY,\n",
    "                offense_code INTEGER,\n",
    "                description VARCHAR(100),\n",
    "                date DATE,\n",
    "                day_of_the_week day_enum,\n",
    "                lat DECIMAL,\n",
    "                long DECIMAL\n",
    "            );\n",
    "            '''\n",
    "           )\n",
    "\n",
    "conn.commit()\n",
    "\n",
    "# Call the cursor.description attribute to ensure table has been created correctly.\n",
    "cur.execute('SELECT * FROM crimes.boston_crimes LIMIT 0;')\n",
    "print(cur.description)"
   ]
  },
  {
   "cell_type": "markdown",
   "id": "bae14c63",
   "metadata": {},
   "source": [
    "## Loading the Data\n",
    "\n",
    "Now that we have created the table, we can load the data into it. As we are loading the data from a CSV file, which may have commas hidden in the string data, we'll use the cursor.copy_expert() method. This will ensure the file is interpreted as a CSV and parsed accordingly."
   ]
  },
  {
   "cell_type": "code",
   "execution_count": 10,
   "id": "91ee084b",
   "metadata": {},
   "outputs": [
    {
     "name": "stdout",
     "output_type": "stream",
     "text": [
      "[(1, 619, 'LARCENY ALL OTHERS', datetime.date(2018, 9, 2), 'Sunday', Decimal('42.35779134'), Decimal('-71.13937053')), (2, 1402, 'VANDALISM', datetime.date(2018, 8, 21), 'Tuesday', Decimal('42.30682138'), Decimal('-71.06030035')), (3, 3410, 'TOWED MOTOR VEHICLE', datetime.date(2018, 9, 3), 'Monday', Decimal('42.34658879'), Decimal('-71.07242943'))]\n"
     ]
    }
   ],
   "source": [
    "# Load the data into the boston_crimes table.\n",
    "with open('boston.csv', mode='r') as file:\n",
    "    cur.copy_expert('COPY crimes.boston_crimes FROM STDIN WITH CSV HEADER', file)\n",
    "    \n",
    "conn.commit()\n",
    "\n",
    "# Print first few rows of the table.\n",
    "cur.execute('''\n",
    "            SELECT *\n",
    "            FROM crimes.boston_crimes\n",
    "            LIMIT 3;\n",
    "            ''')\n",
    "\n",
    "sample = cur.fetchall()\n",
    "print(sample)"
   ]
  },
  {
   "cell_type": "markdown",
   "id": "782dd7cf",
   "metadata": {},
   "source": [
    "After this step, our database now looks like this:\n",
    "\n",
    "![table_created](images/table_created.png)\n",
    "\n",
    "## Revoking Public Privileges\n",
    "\n",
    "Let's recap our progress so far: we have created a database with a schema inside it to hold all data about crimes; we selected the most appropriate datatypes for storing the data and created a table; and we loaded the CSV contaiming crimes about Boston into the table.\n",
    "\n",
    "Now, it's time to handle users. Our goal is to create the two common user groups `readonly` (can only SELECT data) and `readwrite` (can SELECT data as well as INSERT, UPDATE and DELETE).\n",
    "\n",
    "If we are to follow the least privilege principle, we must ensure that each user only has the privileges that are absolutely necessary for their role.\n",
    "The first step in doing so is to make sure that there are no privileges inherited from the `public` group and on the `public` schema."
   ]
  },
  {
   "cell_type": "code",
   "execution_count": 11,
   "id": "e97c88ff",
   "metadata": {},
   "outputs": [],
   "source": [
    "# Revoke all privileges of the public group on tables within the public schema.\n",
    "cur.execute('REVOKE ALL ON SCHEMA public FROM public;')\n",
    "\n",
    "# Revoke all privileges of the public group on the crime_db database.\n",
    "cur.execute('REVOKE ALL ON DATABASE crime_db FROM public')\n",
    "\n",
    "conn.commit()"
   ]
  },
  {
   "cell_type": "markdown",
   "id": "f7606f9d",
   "metadata": {},
   "source": [
    "## Creating User Groups\n",
    "\n",
    "Now we've made sure that we aren't going to inadvertently inherit privilages from the `public` group, our next step is to create our two user groups:\n",
    "\n",
    "* `readonly` - only has privileges to perform `SELECT` queries\n",
    "* `readwrite` - has privileges to perform `SELECT`, `INSERT`, `DELETE` and `UPDATE`\n",
    "\n",
    "Both of our users will also need connection privileges on the `crime_db` database and usage of the `crimes` schema."
   ]
  },
  {
   "cell_type": "code",
   "execution_count": 12,
   "id": "e7de1630",
   "metadata": {},
   "outputs": [],
   "source": [
    "# Drop groups if they already exist to allow us to re-run kernel.\n",
    "cur.execute('DROP GROUP readonly;')\n",
    "cur.execute('DROP GROUP readwrite;')\n",
    "\n",
    "# Create the two groups with the NOLOGIN option.\n",
    "cur.execute('CREATE GROUP readonly NOLOGIN;')\n",
    "cur.execute('CREATE GROUP readwrite NOLOGIN;')\n",
    "\n",
    "# Grant connection privilages to both groups.\n",
    "cur.execute('GRANT CONNECT ON DATABASE crime_db TO readonly;')\n",
    "cur.execute('GRANT CONNECT ON DATABASE crime_db TO readwrite;')\n",
    "\n",
    "# Grant usage of the crimes schema to both groups.\n",
    "cur.execute('GRANT USAGE ON SCHEMA crimes TO readonly;')\n",
    "cur.execute('GRANT USAGE ON SCHEMA crimes TO readwrite;')\n",
    "\n",
    "# Grant group specific privileges to all tables in the crimes schema.\n",
    "cur.execute('GRANT SELECT ON ALL TABLES IN SCHEMA crimes TO readonly;')\n",
    "cur.execute('GRANT SELECT, INSERT, DELETE, UPDATE ON ALL TABLES IN SCHEMA crimes TO readwrite;')\n",
    "\n",
    "conn.commit()"
   ]
  },
  {
   "cell_type": "markdown",
   "id": "43b9f7ec",
   "metadata": {},
   "source": [
    "Right now, the high-level picture of our database looks like this:\n",
    "\n",
    "![user_groups](images/user_groups.png)\n",
    "\n",
    "## Creating Users\n",
    "\n",
    "The final thing we need to do in order for our database to be configured as planned is to create each user and then assign them to each group."
   ]
  },
  {
   "cell_type": "code",
   "execution_count": 13,
   "id": "5e2457e9",
   "metadata": {},
   "outputs": [],
   "source": [
    "# Drop users if they already exist to allow us to re-run kernel.\n",
    "cur.execute('DROP USER data_analyst;')\n",
    "cur.execute('DROP USER data_scientist;')\n",
    "\n",
    "# Create data_analyst user and assign them to the readonly group.\n",
    "cur.execute(\"CREATE USER data_analyst WITH PASSWORD 'secret1';\")\n",
    "cur.execute('GRANT readonly TO data_analyst;')\n",
    "\n",
    "# Create data_scientist user and assign them to the readwrite group.\n",
    "cur.execute(\"CREATE USER data_scientist WITH PASSWORD 'secret2';\")\n",
    "cur.execute('GRANT readwrite TO data_scientist;')\n",
    "\n",
    "conn.commit()"
   ]
  },
  {
   "cell_type": "markdown",
   "id": "dffb3cbe",
   "metadata": {},
   "source": [
    "## Testing\n",
    "\n",
    "Now that we've finished creating our database, tables, groups and users, it's important to check that they have all been set up correctly.\n",
    "\n",
    "We can query the internal `pg_roles` table to inspect user privileges related to the database and the `information_schema.table_privileges` table to inspect table privileges.\n",
    "\n",
    "We've already checked the `boston_crimes` table to see that it has been set up correctly."
   ]
  },
  {
   "cell_type": "code",
   "execution_count": 14,
   "id": "a988fa2b",
   "metadata": {},
   "outputs": [
    {
     "name": "stdout",
     "output_type": "stream",
     "text": [
      "[('data_analyst', False, False, False), ('data_scientist', False, False, False)]\n"
     ]
    }
   ],
   "source": [
    "# Check the database privileges for data_analyst and data_scientist users.\n",
    "cur.execute('''\n",
    "            SELECT\n",
    "              rolname,\n",
    "              rolsuper,\n",
    "              rolcreaterole,\n",
    "              rolcreatedb\n",
    "            FROM pg_roles\n",
    "            WHERE rolname = 'data_analyst'\n",
    "              OR rolname = 'data_scientist';\n",
    "            '''\n",
    "           )\n",
    "db_privileges = cur.fetchall()\n",
    "print(db_privileges)"
   ]
  },
  {
   "cell_type": "markdown",
   "id": "52006000",
   "metadata": {},
   "source": [
    "Here, we can see that the `data_analyst` and `data_scientist` users are not superusers and cannot create new users or databases. This is what we intended."
   ]
  },
  {
   "cell_type": "code",
   "execution_count": 15,
   "id": "a67c6441",
   "metadata": {},
   "outputs": [
    {
     "name": "stdout",
     "output_type": "stream",
     "text": [
      "[('readonly', 'boston_crimes', 'SELECT'), ('readwrite', 'boston_crimes', 'DELETE'), ('readwrite', 'boston_crimes', 'UPDATE'), ('readwrite', 'boston_crimes', 'SELECT'), ('readwrite', 'boston_crimes', 'INSERT')]\n"
     ]
    }
   ],
   "source": [
    "# Check the table privileges for data_analyst and data_scientist users.\n",
    "cur.execute('''\n",
    "            SELECT\n",
    "              grantee,\n",
    "              table_name,\n",
    "              privilege_type\n",
    "            FROM information_schema.table_privileges\n",
    "            WHERE table_name = 'boston_crimes'\n",
    "              AND (grantee = 'readonly' OR grantee = 'readwrite')\n",
    "            ORDER BY grantee;\n",
    "            '''\n",
    "           )\n",
    "table_privileges = cur.fetchall()\n",
    "print(table_privileges)"
   ]
  },
  {
   "cell_type": "markdown",
   "id": "6d402da9",
   "metadata": {},
   "source": [
    "We can also see that the users have the correct permissions in relation to the `boston_crimes` table.\n",
    "\n",
    "The database is set up as intended and at a high-level, looks like this:\n",
    "\n",
    "![overview](images/overview.png)"
   ]
  }
 ],
 "metadata": {
  "kernelspec": {
   "display_name": "Python 3",
   "language": "python",
   "name": "python3"
  },
  "language_info": {
   "codemirror_mode": {
    "name": "ipython",
    "version": 3
   },
   "file_extension": ".py",
   "mimetype": "text/x-python",
   "name": "python",
   "nbconvert_exporter": "python",
   "pygments_lexer": "ipython3",
   "version": "3.8.8"
  }
 },
 "nbformat": 4,
 "nbformat_minor": 5
}
